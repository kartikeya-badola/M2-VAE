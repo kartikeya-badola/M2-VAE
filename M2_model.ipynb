{
  "nbformat": 4,
  "nbformat_minor": 0,
  "metadata": {
    "colab": {
      "name": "M2 model.ipynb",
      "provenance": [],
      "collapsed_sections": []
    },
    "kernelspec": {
      "name": "python3",
      "display_name": "Python 3"
    },
    "accelerator": "GPU"
  },
  "cells": [
    {
      "cell_type": "code",
      "metadata": {
        "id": "8pXzMXHqFe_m",
        "colab_type": "code",
        "colab": {
          "base_uri": "https://localhost:8080/",
          "height": 353
        },
        "outputId": "bbca1404-08cf-4d25-8fc9-b683bba10aba"
      },
      "source": [
        "!nvidia-smi"
      ],
      "execution_count": null,
      "outputs": [
        {
          "output_type": "stream",
          "text": [
            "Sun Jul 19 13:23:06 2020       \n",
            "+-----------------------------------------------------------------------------+\n",
            "| NVIDIA-SMI 450.51.05    Driver Version: 418.67       CUDA Version: 10.1     |\n",
            "|-------------------------------+----------------------+----------------------+\n",
            "| GPU  Name        Persistence-M| Bus-Id        Disp.A | Volatile Uncorr. ECC |\n",
            "| Fan  Temp  Perf  Pwr:Usage/Cap|         Memory-Usage | GPU-Util  Compute M. |\n",
            "|                               |                      |               MIG M. |\n",
            "|===============================+======================+======================|\n",
            "|   0  Tesla T4            Off  | 00000000:00:04.0 Off |                    0 |\n",
            "| N/A   47C    P8     9W /  70W |      0MiB / 15079MiB |      0%      Default |\n",
            "|                               |                      |                 ERR! |\n",
            "+-------------------------------+----------------------+----------------------+\n",
            "                                                                               \n",
            "+-----------------------------------------------------------------------------+\n",
            "| Processes:                                                                  |\n",
            "|  GPU   GI   CI        PID   Type   Process name                  GPU Memory |\n",
            "|        ID   ID                                                   Usage      |\n",
            "|=============================================================================|\n",
            "|  No running processes found                                                 |\n",
            "+-----------------------------------------------------------------------------+\n"
          ],
          "name": "stdout"
        }
      ]
    },
    {
      "cell_type": "code",
      "metadata": {
        "id": "di6weTSlMpgA",
        "colab_type": "code",
        "colab": {}
      },
      "source": [
        "import cv2\n",
        "import os\n",
        "import pandas as pd\n",
        "import numpy as np\n",
        "import matplotlib.pyplot as plt\n",
        "import torch\n",
        "import torchvision\n",
        "import torch.nn as nn\n",
        "from torchvision import transforms\n",
        "import torch.nn.functional as F"
      ],
      "execution_count": 1,
      "outputs": []
    },
    {
      "cell_type": "code",
      "metadata": {
        "id": "6I9eJMWLMu86",
        "colab_type": "code",
        "colab": {}
      },
      "source": [
        "device = torch.device('cuda' if torch.cuda.is_available() else 'cpu')"
      ],
      "execution_count": 2,
      "outputs": []
    },
    {
      "cell_type": "code",
      "metadata": {
        "id": "XH2oTFV9Mw9F",
        "colab_type": "code",
        "colab": {}
      },
      "source": [
        "batch_size=64"
      ],
      "execution_count": 3,
      "outputs": []
    },
    {
      "cell_type": "code",
      "metadata": {
        "id": "zca7uj6IM1gP",
        "colab_type": "code",
        "colab": {}
      },
      "source": [
        "transform = transforms.Compose([\n",
        "        transforms.ToTensor()])"
      ],
      "execution_count": 4,
      "outputs": []
    },
    {
      "cell_type": "code",
      "metadata": {
        "id": "HOS8PJwtNCHC",
        "colab_type": "code",
        "colab": {}
      },
      "source": [
        "#mnist data\n",
        "train_dataset = torchvision.datasets.MNIST(root='data/mnist',\n",
        "                                           train=True, \n",
        "                                           transform=transform,\n",
        "                                           download=True)\n",
        "\n",
        "test_dataset = torchvision.datasets.MNIST(root='data/mnist',\n",
        "                                          train=False, \n",
        "                                          transform=transform)\n",
        "#put into batches\n",
        "train_loader = torch.utils.data.DataLoader(dataset=train_dataset,\n",
        "                                           batch_size=batch_size, \n",
        "                                           shuffle=True)\n",
        "\n",
        "test_loader = torch.utils.data.DataLoader(dataset=test_dataset,\n",
        "                                          batch_size=batch_size, \n",
        "                                          shuffle=True)"
      ],
      "execution_count": 5,
      "outputs": []
    },
    {
      "cell_type": "code",
      "metadata": {
        "id": "cEQLdCGtNErz",
        "colab_type": "code",
        "colab": {}
      },
      "source": [
        "class resblock(nn.Module):\n",
        "  def __init__(self,n_channels):\n",
        "    super(resblock,self).__init__()\n",
        "    self.process = nn.Sequential(\n",
        "                                 nn.Conv2d(in_channels=n_channels,out_channels=n_channels*2,kernel_size=3,stride=1,padding=1),\n",
        "                                 nn.BatchNorm2d(2*n_channels),\n",
        "                                 nn.Sigmoid(),\n",
        "                                 nn.Conv2d(in_channels=2*n_channels,out_channels=n_channels*4,kernel_size=3,stride=1,padding=1),\n",
        "                                 nn.BatchNorm2d(4*n_channels),\n",
        "                                 nn.Sigmoid(),\n",
        "                                 nn.Conv2d(in_channels=4*n_channels,out_channels=n_channels*4,kernel_size=3,stride=1,padding=1),\n",
        "                                 nn.BatchNorm2d(4*n_channels),\n",
        "                                 nn.Sigmoid(),\n",
        "                                 nn.Conv2d(in_channels=4*n_channels,out_channels=n_channels,kernel_size=3,stride=1,padding=1),\n",
        "                                 nn.BatchNorm2d(n_channels),\n",
        "                                 nn.Sigmoid())\n",
        "  def forward(self,x):\n",
        "    return x+self.process(x)\n"
      ],
      "execution_count": 6,
      "outputs": []
    },
    {
      "cell_type": "code",
      "metadata": {
        "id": "1nnmb13qPPSf",
        "colab_type": "code",
        "colab": {}
      },
      "source": [
        "class vae(nn.Module):\n",
        "  def __init__(self):\n",
        "    super(vae,self).__init__()\n",
        "    self.base_encoder = nn.Sequential(nn.Conv2d(in_channels=1,out_channels=4,kernel_size=3,stride=1,padding=1),\n",
        "                                      resblock(4),\n",
        "                                      nn.Conv2d(in_channels=4,out_channels=4,kernel_size=2,stride=2,padding=0),\n",
        "                                      resblock(4),\n",
        "                                      nn.Conv2d(in_channels=4,out_channels=1,kernel_size=3,stride=1,padding=1))\n",
        "    self.y_encoder = nn.Sequential(nn.Linear(14*14,128),\n",
        "                                   nn.Sigmoid(),\n",
        "                                   nn.Linear(128,10))\n",
        "    self.extraz = nn.Sequential(resblock(1),\n",
        "                                nn.Conv2d(in_channels=1,out_channels=1,kernel_size=2,stride=2,padding=0))\n",
        "    self.extray = nn.Sequential(nn.Linear(10,32),nn.Sigmoid(),nn.Linear(32,49))\n",
        "    self.final = resblock(1)\n",
        "    self.zmu = nn.Linear(7*7,7*7)\n",
        "    self.zvar = nn.Linear(7*7,7*7)\n",
        "\n",
        "    self.ydec = nn.Sequential(nn.Linear(10,32),nn.Sigmoid(),nn.Linear(32,49))\n",
        "    self.zdec = resblock(1)\n",
        "    self.commondecoder = nn.Sequential(nn.ConvTranspose2d(1,1,kernel_size=2,stride=2,padding=0),\n",
        "                                       nn.Conv2d(in_channels=1,out_channels=4,kernel_size=1,stride=1,padding=0),\n",
        "                                       resblock(4),\n",
        "                                       nn.ConvTranspose2d(4,4,kernel_size=2,stride=2,padding=0),\n",
        "                                       resblock(4),\n",
        "                                       nn.Conv2d(in_channels=4,out_channels=1,kernel_size=1,stride=1,padding=0),\n",
        "                                       nn.Sigmoid())\n",
        "  def encode(self,x):\n",
        "    x = self.base_encoder(x)\n",
        "    ylogit = self.y_encoder(x.reshape(x.shape[0],14*14))\n",
        "    ysoft = F.softmax(ylogit, dim=1)\n",
        "    _,preds  = torch.max(ysoft, 1)\n",
        "    onehot = torch.eye(10).to(device) \n",
        "    onehot = onehot[preds]\n",
        "    processed_onehot = self.extray(onehot.float())\n",
        "    processed_onehot = processed_onehot.reshape(processed_onehot.shape[0],1,7,7)\n",
        "    final = self.final(processed_onehot+self.extraz(x))\n",
        "    zmu = self.zmu(final.reshape(final.shape[0],7*7))\n",
        "    zvar = self.zvar(final.reshape(final.shape[0],7*7))\n",
        "    return onehot,zmu,zvar,ysoft\n",
        "  def forward(self,x):\n",
        "    onehot,zmu,zvar,ysoft = self.encode(x)\n",
        "    processed_onehot = self.ydec(onehot.float())\n",
        "    processed_onehot = processed_onehot.reshape(processed_onehot.shape[0],1,7,7)\n",
        "    std = zvar.mul(0.5).exp_()\n",
        "    esp = torch.randn(*zmu.size()).to(device)\n",
        "    z = zmu + std * esp\n",
        "    processed_z = self.zdec(z.reshape(z.shape[0],1,7,7))\n",
        "    recons = self.commondecoder(processed_onehot+processed_z)\n",
        "    return recons,zmu,zvar,ysoft\n",
        "  def loss(self,x,y):\n",
        "    recons,zmu,zvar,ysoft = self.forward(x)\n",
        "    catloss = nn.CrossEntropyLoss()(ysoft,y)\n",
        "    reconsloss = nn.BCELoss()(recons,x)\n",
        "    klloss = -0.5 * torch.sum(1 + zvar - zmu.pow(2) - zvar.exp())/x.shape[0]\n",
        "    return catloss,reconsloss,klloss\n",
        "  def generate_samples(self,labels,mu,std):\n",
        "    onehot = torch.eye(10).to(device) \n",
        "    onehot = onehot[labels]\n",
        "    processed_onehot = self.ydec(onehot.float())\n",
        "    processed_onehot = processed_onehot.reshape(processed_onehot.shape[0],1,7,7)\n",
        "    z = torch.randn(labels.shape[0],7*7).to(device)\n",
        "    z = z*std+mu\n",
        "    processed_z = self.zdec(z.reshape(z.shape[0],1,7,7))\n",
        "    recons = self.commondecoder(processed_onehot+processed_z)\n",
        "    return recons\n",
        "\n",
        "\n"
      ],
      "execution_count": 7,
      "outputs": []
    },
    {
      "cell_type": "code",
      "metadata": {
        "id": "TFY_b3jnc4YF",
        "colab_type": "code",
        "colab": {}
      },
      "source": [
        "model = vae().to(device)"
      ],
      "execution_count": 8,
      "outputs": []
    },
    {
      "cell_type": "code",
      "metadata": {
        "id": "D12gz7Ghdbry",
        "colab_type": "code",
        "colab": {}
      },
      "source": [
        "optim = torch.optim.Adam(model.parameters())"
      ],
      "execution_count": 9,
      "outputs": []
    },
    {
      "cell_type": "code",
      "metadata": {
        "id": "kgnazhqFeS2g",
        "colab_type": "code",
        "colab": {}
      },
      "source": [
        "epochs=10"
      ],
      "execution_count": 10,
      "outputs": []
    },
    {
      "cell_type": "code",
      "metadata": {
        "id": "S3TZJjYCeYX5",
        "colab_type": "code",
        "colab": {
          "base_uri": "https://localhost:8080/",
          "height": 185
        },
        "outputId": "eaeb5a07-6ce5-46e1-c5f4-bc35e5c8ce88"
      },
      "source": [
        "for epoch in range(epochs):\n",
        "    minloss = 1\n",
        "    running_kl_loss=0\n",
        "    running_recons_loss=0\n",
        "    running_cat_loss=0\n",
        "    num_images=0\n",
        "    for i,(img,label) in enumerate(train_loader):\n",
        "      img = img.to(device)\n",
        "      label=label.to(device)\n",
        "      optim.zero_grad()\n",
        "      cat_loss,recons_loss,kl_loss = model.loss(img,label)\n",
        "      loss=5*recons_loss+0.1*cat_loss+(epoch/50)*kl_loss\n",
        "      loss.backward()\n",
        "      optim.step()\n",
        "      running_cat_loss = running_cat_loss + cat_loss.item()*len(img)\n",
        "      running_recons_loss = running_recons_loss + recons_loss.item()*len(img)\n",
        "      running_kl_loss = running_kl_loss + kl_loss.item()*len(img)\n",
        "\n",
        "      num_images= num_images+len(img)\n",
        "    print('epoch: '+str(epoch)+' cat_loss: '+str(running_cat_loss/num_images)+' recons_loss: '+str(running_recons_loss/num_images)+' kl_loss: '+str(running_kl_loss/num_images))\n",
        "\n"
      ],
      "execution_count": 11,
      "outputs": [
        {
          "output_type": "stream",
          "text": [
            "epoch: 0 cat_loss: 1.669810979016622 recons_loss: 0.16880538080135982 kl_loss: 7554.758912893168\n",
            "epoch: 1 cat_loss: 1.6601766915639242 recons_loss: 0.20886810086568197 kl_loss: 12.358922819519043\n",
            "epoch: 2 cat_loss: 1.579672933069865 recons_loss: 0.20660865159829458 kl_loss: 2.297828810628255\n",
            "epoch: 3 cat_loss: 1.5619897391637165 recons_loss: 0.2139879836320877 kl_loss: 0.83018428662618\n",
            "epoch: 4 cat_loss: 1.54788779074351 recons_loss: 0.217434384171168 kl_loss: 0.3780913578828176\n",
            "epoch: 5 cat_loss: 1.535346438217163 recons_loss: 0.21934034469127656 kl_loss: 0.18428993593056997\n",
            "epoch: 6 cat_loss: 1.5250559982935588 recons_loss: 0.22069766844113667 kl_loss: 0.08807825516462325\n",
            "epoch: 7 cat_loss: 1.5159165686289469 recons_loss: 0.22123501975536347 kl_loss: 0.04398530792792638\n",
            "epoch: 8 cat_loss: 1.508063569132487 recons_loss: 0.22151994423071544 kl_loss: 0.024360647415121395\n",
            "epoch: 9 cat_loss: 1.5019548556009927 recons_loss: 0.22157077426910401 kl_loss: 0.015319451528290907\n"
          ],
          "name": "stdout"
        }
      ]
    },
    {
      "cell_type": "code",
      "metadata": {
        "id": "kQLTaY8XWTPt",
        "colab_type": "code",
        "colab": {}
      },
      "source": [
        "import matplotlib.pyplot as plt\n",
        "from mpl_toolkits.axes_grid1 import ImageGrid"
      ],
      "execution_count": 12,
      "outputs": []
    },
    {
      "cell_type": "code",
      "metadata": {
        "id": "69fadMwkk5z-",
        "colab_type": "code",
        "colab": {}
      },
      "source": [
        "labels=[]\n",
        "for i in range(10):\n",
        "  for j in range(6):\n",
        "    labels.append(i)"
      ],
      "execution_count": 13,
      "outputs": []
    },
    {
      "cell_type": "code",
      "metadata": {
        "id": "tJcRiLLFVcXh",
        "colab_type": "code",
        "colab": {}
      },
      "source": [
        "labels=torch.Tensor(np.array(labels)).long().to(device)"
      ],
      "execution_count": 14,
      "outputs": []
    },
    {
      "cell_type": "code",
      "metadata": {
        "id": "u3P_fJdvX7Qz",
        "colab_type": "code",
        "colab": {}
      },
      "source": [
        "mu = torch.arange(start=-1.5, end=1.5, step=0.5)\n",
        "f_mu=[]\n",
        "for b in range(10):\n",
        "  for a in mu:\n",
        "    f_mu.append(np.array(torch.zeros(7*7)+a))\n",
        "f_mu = np.array(f_mu)\n",
        "f_mu = torch.Tensor(f_mu).to(device)"
      ],
      "execution_count": 15,
      "outputs": []
    },
    {
      "cell_type": "code",
      "metadata": {
        "id": "nNPNGLJPn6pm",
        "colab_type": "code",
        "colab": {}
      },
      "source": [
        "imgs = model.generate_samples(labels,torch.zeros(60,49).to(device),f_mu).cpu().detach().reshape(60,28,28)"
      ],
      "execution_count": 16,
      "outputs": []
    },
    {
      "cell_type": "code",
      "metadata": {
        "id": "mF1DpZA7W48o",
        "colab_type": "code",
        "colab": {
          "base_uri": "https://localhost:8080/",
          "height": 395
        },
        "outputId": "5b9b4a36-1327-493b-cf9c-7f9983be9105"
      },
      "source": [
        "plt.gray()\n",
        "fig = plt.figure(figsize=(10., 6.))\n",
        "grid = ImageGrid(fig, 111,  # similar to subplot(111)\n",
        "                 nrows_ncols=(10, 6),  # creates 2x2 grid of axes\n",
        "                 axes_pad=0.05  # pad between axes in inch.\n",
        "                 )\n",
        "\n",
        "for ax, im in zip(grid, imgs):\n",
        "    # Iterating over the grid returns the Axes.\n",
        "    ax.imshow(im)\n",
        "\n",
        "plt.show()"
      ],
      "execution_count": 17,
      "outputs": [
        {
          "output_type": "display_data",
          "data": {
            "text/plain": [
              "<Figure size 432x288 with 0 Axes>"
            ]
          },
          "metadata": {
            "tags": []
          }
        },
        {
          "output_type": "display_data",
          "data": {
            "image/png": "[encoded data removed]",
            "text/plain": [
              "<Figure size 720x432 with 120 Axes>"
            ]
          },
          "metadata": {
            "tags": [],
            "needs_background": "light"
          }
        }
      ]
    },
    {
      "cell_type": "code",
      "metadata": {
        "id": "IAR9DcT3XGLd",
        "colab_type": "code",
        "colab": {}
      },
      "source": [
        ""
      ],
      "execution_count": 22,
      "outputs": []
    }
  ]
}